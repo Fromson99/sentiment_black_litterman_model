{
 "cells": [
  {
   "cell_type": "code",
   "execution_count": 3,
   "metadata": {},
   "outputs": [],
   "source": [
    "import pandas as pd\n",
    "import numpy as np\n",
    "from numpy.linalg import inv"
   ]
  },
  {
   "cell_type": "code",
   "execution_count": 5,
   "metadata": {},
   "outputs": [],
   "source": [
    "import re\n",
    "\n",
    "biz_day = re.findall('[0-9]+', '2022.08.03')\n",
    "biz_day = ''.join(biz_day)"
   ]
  },
  {
   "cell_type": "code",
   "execution_count": 6,
   "metadata": {},
   "outputs": [
    {
     "name": "stdout",
     "output_type": "stream",
     "text": [
      "\n",
      "\n",
      "\n",
      "\n",
      "\n",
      "\n",
      "\n",
      "\n",
      "\n",
      " \n",
      " \n",
      "\n",
      "\n",
      "\t\n",
      "\t\n",
      "\t\t<html>\n",
      "<head>\n",
      "  <title>Error - KRX | Market Data System</title>\n",
      "  <meta charset=\"utf-8\">\n",
      "  <meta http-equiv=\"Content-Type\" content=\"text/html; charset=UTF-8\">\n",
      "  <meta http-equiv=\"X-UA-Compatible\" content=\"IE=Edge\">\n",
      "  <meta name=\"viewport\" content=\"width=device-width, initial-scale=1, shrink-to-fit=no\">\n",
      "  <meta name=\"author\" content=\"?????\" />\n",
      "  <meta name=\"description\" content=\"??·????? ????(Marketdata), ?????, ??????(SMILE) ? ?????? ?????? ???? ?? ???\" />\n",
      "  <meta name=\"keywords\" content=\"???????? ?????? ????? ?? KRX?? ??????? ???? ?? ???????? KRX ???????? ??? ?????? ???????? ?????????? ?????\" />\n",
      "  <meta property=\"og:type\" content=\"website\" />\n",
      "  <meta property=\"og:title\" content=\"KRX Market Data System\" />\n",
      "  <meta property=\"og:description\" content=\"??·????? ????(Marketdata), ?????, ??????(SMILE) ? ?????? ?????? ???? ?? ???\" />\n",
      "  <meta name=\"naver-site-verification\" content=\"222ad2f14a7a611c5494c898d311a8d7b61ba13e\"/>\n",
      "  <meta name=\"robots\" content=\"index,follow\" >\n",
      "  <style type=\"text/css\">\n",
      "    .error {position:relative; width:100%; height:100%; background:#f6f7fc; font-family:'Open Sans', sans-serif;}\n",
      "    .error .content {position:absolute; left:50%; top:50%; width:724px; height:224px; padding-left:206px; padding-top:50px; margin:-150px 0 0 -362px; line-height:1.6; font-size:13px; color:#666666; background:url('/comm/error/img/bg_error.png') no-repeat left 0;}\n",
      "    .error .content:after {content:'Market Data System'; display:block; position:absolute; bottom:80px; left:333px; font-weight:600; letter-spacing:-1px;}\n",
      "    .error .content p span {display:block; line-height:1; margin-bottom:13px; font-size:20px; font-weight:600; color:#00b4d5;}\n",
      "    .error .btnWrap {position:absolute; left:0; top:50%; width:100%; margin:90px 0 20px 0; text-align:center;}\n",
      "    .error .btnWrap a {display:inline-block; background:#7070e7; color:#eeeeee; padding:10px 30px 10px 30px; border-radius:8px; font-size:15px; font-weight:600; text-decoration:none;}\n",
      "  </style>\n",
      "</head>\n",
      "<body class=\"error\">\n",
      "<div class=\"content\">\n",
      "  <p>\n",
      "    <span>Service unavailable</span>\n",
      "    The service is not smooth due to temporary access instability.<br>\n",
      "    If you have any questions about this, please contact system manager.\n",
      "  </p>\n",
      "</div>\n",
      "<div class=\"btnWrap\"><a href=\"http://data.krx.co.kr/contents/MDC/MAIN/main/index.cmd\">MAIN</a></div>\n",
      "</body>\n",
      "</html>\n",
      "\n",
      "\t\n",
      "\n",
      "\n",
      "\n",
      "\n"
     ]
    }
   ],
   "source": [
    "import requests as rq\n",
    "from io import BytesIO\n",
    "import pandas as pd\n",
    "\n",
    "gen_otp_url = 'http://data.krx.co.kr/comm/fileDn/GenerateOTP/generate.cmd'\n",
    "gen_otp_stk = {\n",
    "    'mktId': 'STK',\n",
    "    'trdDd': biz_day,\n",
    "    'money': '1',\n",
    "    'csvxls_isNo': 'false',\n",
    "    'name': 'fileDown',\n",
    "    'url': 'dbms/MDC/STAT/standard/MDCSTAT03901'\n",
    "}\n",
    "headers = {'Referer': 'http://data.krx.co.kr/contents/MDC/MDI/mdiLoader'}\n",
    "otp_stk = rq.post(gen_otp_url, gen_otp_stk, headers=headers).text\n",
    "\n",
    "print(otp_stk)"
   ]
  },
  {
   "cell_type": "code",
   "execution_count": 7,
   "metadata": {},
   "outputs": [
    {
     "data": {
      "text/html": [
       "<div>\n",
       "<style scoped>\n",
       "    .dataframe tbody tr th:only-of-type {\n",
       "        vertical-align: middle;\n",
       "    }\n",
       "\n",
       "    .dataframe tbody tr th {\n",
       "        vertical-align: top;\n",
       "    }\n",
       "\n",
       "    .dataframe thead th {\n",
       "        text-align: right;\n",
       "    }\n",
       "</style>\n",
       "<table border=\"1\" class=\"dataframe\">\n",
       "  <thead>\n",
       "    <tr style=\"text-align: right;\">\n",
       "      <th></th>\n",
       "      <th>&lt;HTML&gt;&lt;HEAD&gt;</th>\n",
       "    </tr>\n",
       "  </thead>\n",
       "  <tbody>\n",
       "    <tr>\n",
       "      <th>0</th>\n",
       "      <td>&lt;TITLE&gt;Access Denied&lt;/TITLE&gt;</td>\n",
       "    </tr>\n",
       "    <tr>\n",
       "      <th>1</th>\n",
       "      <td>&lt;/HEAD&gt;&lt;BODY&gt;</td>\n",
       "    </tr>\n",
       "    <tr>\n",
       "      <th>2</th>\n",
       "      <td>&lt;H1&gt;Access Denied&lt;/H1&gt;</td>\n",
       "    </tr>\n",
       "    <tr>\n",
       "      <th>3</th>\n",
       "      <td>You don't have permission to access \"http&amp;#58;...</td>\n",
       "    </tr>\n",
       "    <tr>\n",
       "      <th>4</th>\n",
       "      <td>Reference&amp;#32;&amp;#35;18&amp;#46;64203517&amp;#46;1725249...</td>\n",
       "    </tr>\n",
       "  </tbody>\n",
       "</table>\n",
       "</div>"
      ],
      "text/plain": [
       "                                        <HTML><HEAD>\n",
       "0                       <TITLE>Access Denied</TITLE>\n",
       "1                                      </HEAD><BODY>\n",
       "2                             <H1>Access Denied</H1>\n",
       "3  You don't have permission to access \"http&#58;...\n",
       "4  Reference&#32;&#35;18&#46;64203517&#46;1725249..."
      ]
     },
     "execution_count": 7,
     "metadata": {},
     "output_type": "execute_result"
    }
   ],
   "source": [
    "down_url = 'http://data.krx.co.kr/comm/fileDn/download_csv/download.cmd'\n",
    "down_sector_stk = rq.post(down_url, {'code': otp_stk}, headers=headers)\n",
    "sector_stk = pd.read_csv(BytesIO(down_sector_stk.content), encoding='EUC-KR')\n",
    "\n",
    "sector_stk.head()"
   ]
  },
  {
   "cell_type": "code",
   "execution_count": 2,
   "metadata": {},
   "outputs": [
    {
     "name": "stdout",
     "output_type": "stream",
     "text": [
      "시장 균형 수익률 (Eq): [0.14 0.15 0.15]\n",
      "조정된 기대 수익률 (Adjusted Return): [0.14108488 0.14928526 0.14889598]\n"
     ]
    }
   ],
   "source": [
    "import numpy as np\n",
    "import pandas as pd\n",
    "\n",
    "# 데이터 설정\n",
    "assets = ['Asset1', 'Asset2', 'Asset3']  # 자산 이름\n",
    "market_caps = np.array([0.4, 0.4, 0.2])  # 시장 자산 비중 (시장 포트폴리오)\n",
    "cov_matrix = np.array([\n",
    "    [0.1, 0.02, 0.04],\n",
    "    [0.02, 0.1, 0.06],\n",
    "    [0.04, 0.06, 0.1]\n",
    "])  # 자산 간의 공분산 행렬\n",
    "rf_rate = 0.03  # 무위험 이자율\n",
    "\n",
    "# 시장 균형 수익률 (Eq) 계산\n",
    "delta = 2.5  # 위험 회피 계수 (Risk aversion)\n",
    "market_return = np.dot(market_caps, np.dot(cov_matrix, market_caps))  # 시장 기대 수익률\n",
    "Eq = delta * np.dot(cov_matrix, market_caps)  # 균형 수익률\n",
    "\n",
    "# 투자자의 뷰 설정 (P: 뷰 행렬, Q: 뷰 수익률)\n",
    "P = np.array([\n",
    "    [1, -1, 0],  # 첫 번째 뷰: 자산 1의 수익률이 자산 2보다 높음\n",
    "    [0, 1, -1]   # 두 번째 뷰: 자산 2의 수익률이 자산 3보다 높음\n",
    "])\n",
    "Q = np.array([0.05, 0.03])  # 뷰에 따른 수익률 기대값\n",
    "\n",
    "# 뷰의 불확실성 행렬 Omega (단순화하여 동일한 불확실성 가정)\n",
    "omega = np.dot(np.dot(P, cov_matrix), P.T) * np.eye(len(Q))\n",
    "\n",
    "# 조정된 기대 수익률 (Black-Litterman Formula)\n",
    "# 조정된 수익률 = (τ*Σ^-1 + P'Ω^-1P)^-1 (τ*Σ^-1 Eq + P'Ω^-1 Q)\n",
    "tau = 0.05  # 스칼라 값, 불확실성을 조정하는 매개변수\n",
    "adjusted_cov_matrix_inv = np.linalg.inv(tau * cov_matrix)\n",
    "adjusted_views = np.dot(P.T, np.linalg.inv(omega)).dot(Q)\n",
    "adjusted_return = np.linalg.inv(adjusted_cov_matrix_inv + np.dot(P.T, np.linalg.inv(omega)).dot(P)).dot(\n",
    "    adjusted_cov_matrix_inv.dot(Eq) + adjusted_views\n",
    ")\n",
    "\n",
    "# 결과 출력\n",
    "print(\"시장 균형 수익률 (Eq):\", Eq)\n",
    "print(\"조정된 기대 수익률 (Adjusted Return):\", adjusted_return)"
   ]
  },
  {
   "cell_type": "code",
   "execution_count": null,
   "metadata": {},
   "outputs": [],
   "source": []
  }
 ],
 "metadata": {
  "kernelspec": {
   "display_name": "fromson_test",
   "language": "python",
   "name": "fromson"
  },
  "language_info": {
   "codemirror_mode": {
    "name": "ipython",
    "version": 3
   },
   "file_extension": ".py",
   "mimetype": "text/x-python",
   "name": "python",
   "nbconvert_exporter": "python",
   "pygments_lexer": "ipython3",
   "version": "3.10.9"
  }
 },
 "nbformat": 4,
 "nbformat_minor": 2
}
